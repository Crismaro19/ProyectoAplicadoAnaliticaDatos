{
 "cells": [
  {
   "cell_type": "markdown",
   "metadata": {},
   "source": [
    "# Analisis Exploratorio informacion Adopcion Digital Colombia"
   ]
  },
  {
   "cell_type": "markdown",
   "metadata": {},
   "source": [
    "## Importar librerias"
   ]
  },
  {
   "cell_type": "code",
   "execution_count": null,
   "metadata": {},
   "outputs": [],
   "source": [
    "import pandas as pd\n",
    "\n",
    "import numpy as np\n",
    "import matplotlib.pyplot as plt\n",
    "\n",
    "# Configuracion pands\n",
    "pd.set_option('display.max_columns', None)\n",
    "pd.set_option('display.max_rows', None)"
   ]
  },
  {
   "cell_type": "markdown",
   "metadata": {},
   "source": [
    "## Cargar el Data Set"
   ]
  },
  {
   "cell_type": "code",
   "execution_count": null,
   "metadata": {},
   "outputs": [],
   "source": [
    "# data set's CNC\n",
    "df_2012 = pd.read_excel(\"../Data/d2012---copia.xlsx\")\n",
    "df_2013 = pd.read_excel(\"../Data/d2013---copia.xlsx\")\n",
    "df_2016 = pd.read_excel(\"../Data/d2016---copia.xlsx\")\n",
    "df_2018 = pd.read_excel(\"../Data/d2018---copia.xlsx\")\n",
    "df_2023 = pd.read_excel(\"../Data/d2023---copia.xlsx\")\n"
   ]
  },
  {
   "cell_type": "markdown",
   "metadata": {},
   "source": [
    "## Analisis preliminar de los Datos"
   ]
  },
  {
   "cell_type": "markdown",
   "metadata": {},
   "source": [
    "### Data Frames CNC"
   ]
  },
  {
   "cell_type": "markdown",
   "metadata": {},
   "source": [
    "#### 2012"
   ]
  },
  {
   "cell_type": "markdown",
   "metadata": {},
   "source": [
    "##### Exploratorio"
   ]
  },
  {
   "cell_type": "code",
   "execution_count": null,
   "metadata": {},
   "outputs": [],
   "source": [
    "# ver muestra del data set\n",
    "df_2012.head()"
   ]
  },
  {
   "cell_type": "code",
   "execution_count": null,
   "metadata": {},
   "outputs": [],
   "source": [
    "# Informacion Basica del DF\n",
    "df_2012.info()"
   ]
  },
  {
   "cell_type": "markdown",
   "metadata": {},
   "source": [
    "##### Completitud"
   ]
  },
  {
   "cell_type": "code",
   "execution_count": null,
   "metadata": {},
   "outputs": [],
   "source": [
    "for c in df_2012.columns:\n",
    "    print(\"\\n\" + c )\n",
    "    print(\"Cantidad de filas:\", df_2012[c].size)\n",
    "    print(\"Cantidad de filas unicas:\", df_2012[c].nunique())\n",
    "    print(\"Cantidad de filas vacias:\",(df_2012[c] == \"\").sum())\n",
    "    print(\"Cantidad de filas Null:\", df_2012[c].isnull().sum())"
   ]
  },
  {
   "cell_type": "markdown",
   "metadata": {},
   "source": [
    "##### Unicidad"
   ]
  },
  {
   "cell_type": "code",
   "execution_count": null,
   "metadata": {},
   "outputs": [],
   "source": [
    "print(\"Cantidad de registros en el data frame:\", df_2012.shape[0])\n",
    "print(\"Cantidad de registros unicos en el data frame:\", df_2012.drop_duplicates().shape[0])"
   ]
  },
  {
   "cell_type": "markdown",
   "metadata": {},
   "source": [
    "##### Consistencia - Validez"
   ]
  },
  {
   "cell_type": "code",
   "execution_count": null,
   "metadata": {},
   "outputs": [],
   "source": [
    "# validar la coherencia dentro de un conjunto o multiples conjuntos - Rangos y tipos de datos\n",
    "\n",
    "# Validar rangos de edades\n",
    "print(\"Edad minima:\", df_2012[\"EDAD_1\"].min())\n",
    "print(\"Edad maxima:\",df_2012[\"EDAD_1\"].max())\n",
    "\n",
    "# Validar Municipios\n",
    "print(\"Municipios:\", df_2012[\"MUNICIPIO\"].unique())\n",
    "\n",
    "# validar regiones\n",
    "print(\"Municipios:\", df_2012[\"REGION\"].unique())\n",
    "\n",
    "# validar Sexo\n",
    "print(\"Sexo:\", df_2012[\"SEXO\"].unique())\n"
   ]
  },
  {
   "cell_type": "markdown",
   "metadata": {},
   "source": [
    "##### Limpieza de datos"
   ]
  },
  {
   "cell_type": "code",
   "execution_count": null,
   "metadata": {},
   "outputs": [],
   "source": [
    "# Se eliminaran las columnas con mas de 90% de valores null\n",
    "for c in df_2012.columns:\n",
    "    if df_2012[c].isnull().sum() >= (df_2012[c].size * 0.90) :\n",
    "        print(\"\\n\" + c )\n",
    "        print(\"Cantidad de filas:\", df_2012[c].size)\n",
    "        print(\"Cantidad de filas Null:\", df_2012[c].isnull().sum())\n",
    "        \n",
    "        df_2012.drop(c, axis=1, inplace=True)\n"
   ]
  },
  {
   "cell_type": "code",
   "execution_count": null,
   "metadata": {},
   "outputs": [],
   "source": [
    "# rellenar vacios\n",
    "df_2012.fillna(method='bfill', inplace=True)"
   ]
  },
  {
   "cell_type": "code",
   "execution_count": null,
   "metadata": {},
   "outputs": [],
   "source": [
    "# ver muestra del data set\n",
    "df_2012.head()"
   ]
  },
  {
   "cell_type": "markdown",
   "metadata": {},
   "source": [
    "#### 2013"
   ]
  },
  {
   "cell_type": "markdown",
   "metadata": {},
   "source": [
    "##### Exploratorio"
   ]
  },
  {
   "cell_type": "code",
   "execution_count": null,
   "metadata": {},
   "outputs": [],
   "source": [
    "# ver muestra del data set\n",
    "df_2013.head()"
   ]
  },
  {
   "cell_type": "code",
   "execution_count": null,
   "metadata": {},
   "outputs": [],
   "source": [
    "# Informacion Basica del DF\n",
    "df_2013.info()"
   ]
  },
  {
   "cell_type": "markdown",
   "metadata": {},
   "source": [
    "##### Completitud"
   ]
  },
  {
   "cell_type": "code",
   "execution_count": null,
   "metadata": {},
   "outputs": [],
   "source": [
    "for c in df_2013.columns:\n",
    "    print(\"\\n\" + c )\n",
    "    print(\"Cantidad de filas:\", df_2013[c].size)\n",
    "    print(\"Cantidad de filas unicas:\", df_2013[c].nunique())\n",
    "    print(\"Cantidad de filas vacias:\",(df_2013[c] == \"\").sum())\n",
    "    print(\"Cantidad de filas Null:\", df_2013[c].isnull().sum())"
   ]
  },
  {
   "cell_type": "markdown",
   "metadata": {},
   "source": [
    "##### Unicidad"
   ]
  },
  {
   "cell_type": "code",
   "execution_count": null,
   "metadata": {},
   "outputs": [],
   "source": [
    "print(\"Cantidad de registros en el data frame:\", df_2013.shape[0])\n",
    "print(\"Cantidad de registros unicos en el data frame:\", df_2013.drop_duplicates().shape[0])"
   ]
  },
  {
   "cell_type": "markdown",
   "metadata": {},
   "source": [
    "##### Consistencia - Validez"
   ]
  },
  {
   "cell_type": "code",
   "execution_count": null,
   "metadata": {},
   "outputs": [],
   "source": [
    "# validar la coherencia dentro de un conjunto o multiples conjuntos - Rangos y tipos de datos\n",
    "\n",
    "# Validar rangos de edades\n",
    "print(\"Edad minima:\", df_2013[\"P1_EDAD1\"].min())\n",
    "print(\"Edad maxima:\",df_2013[\"P1_EDAD1\"].max())\n",
    "\n",
    "# Validar Municipios\n",
    "print(\"Municipios:\", df_2013[\"MUN\"].unique())\n",
    "\n",
    "# validar regiones\n",
    "print(\"Municipios:\", df_2013[\"REGION\"].unique())\n",
    "\n",
    "# validar Sexo\n",
    "print(\"Sexo:\", df_2013[\"P1_SEXO1\"].unique())\n"
   ]
  },
  {
   "cell_type": "markdown",
   "metadata": {},
   "source": [
    "##### Limpieza de datos"
   ]
  },
  {
   "cell_type": "code",
   "execution_count": null,
   "metadata": {},
   "outputs": [],
   "source": [
    "# Se eliminaran las columnas con mas de 90% de valores null\n",
    "for c in df_2013.columns:\n",
    "    if df_2013[c].isnull().sum() >= (df_2013[c].size * 0.90) :\n",
    "        print(\"\\n\" + c )\n",
    "        print(\"Cantidad de filas:\", df_2013[c].size)\n",
    "        print(\"Cantidad de filas Null:\", df_2013[c].isnull().sum())\n",
    "        \n",
    "        df_2013.drop(c, axis=1, inplace=True)\n"
   ]
  },
  {
   "cell_type": "code",
   "execution_count": null,
   "metadata": {},
   "outputs": [],
   "source": [
    "# rellenar vacios\n",
    "df_2013.fillna(method='bfill', inplace=True)"
   ]
  },
  {
   "cell_type": "code",
   "execution_count": null,
   "metadata": {},
   "outputs": [],
   "source": [
    "# ver muestra del data set\n",
    "df_2013.head()"
   ]
  },
  {
   "cell_type": "markdown",
   "metadata": {},
   "source": [
    "#### 2016"
   ]
  },
  {
   "cell_type": "markdown",
   "metadata": {},
   "source": [
    "##### Exploratorio"
   ]
  },
  {
   "cell_type": "code",
   "execution_count": null,
   "metadata": {},
   "outputs": [],
   "source": [
    "# ver muestra del data set\n",
    "df_2016.head()"
   ]
  },
  {
   "cell_type": "code",
   "execution_count": null,
   "metadata": {},
   "outputs": [],
   "source": [
    "# Informacion Basica del DF\n",
    "df_2016.info()"
   ]
  },
  {
   "cell_type": "markdown",
   "metadata": {},
   "source": [
    "##### Completitud"
   ]
  },
  {
   "cell_type": "code",
   "execution_count": null,
   "metadata": {},
   "outputs": [],
   "source": [
    "# Remplazar valores personalizados de Null por NaN\n",
    "df_2016.replace(\"#NULL!\", np.nan, inplace=True)\n",
    "\n",
    "for c in df_2016.columns:\n",
    "    print(\"\\n\" + c )\n",
    "    print(\"Cantidad de filas:\", df_2016[c].size)\n",
    "    print(\"Cantidad de filas unicas:\", df_2016[c].nunique())\n",
    "    print(\"Cantidad de filas vacias:\",(df_2016[c] == \"\").sum())\n",
    "    print(\"Cantidad de filas Null:\", df_2016[c].isnull().sum())"
   ]
  },
  {
   "cell_type": "markdown",
   "metadata": {},
   "source": [
    "##### Unicidad"
   ]
  },
  {
   "cell_type": "code",
   "execution_count": null,
   "metadata": {},
   "outputs": [],
   "source": [
    "print(\"Cantidad de registros en el data frame:\", df_2016.shape[0])\n",
    "print(\"Cantidad de registros unicos en el data frame:\", df_2016.drop_duplicates().shape[0])"
   ]
  },
  {
   "cell_type": "markdown",
   "metadata": {},
   "source": [
    "##### Consistencia - Validez"
   ]
  },
  {
   "cell_type": "code",
   "execution_count": null,
   "metadata": {},
   "outputs": [],
   "source": [
    "# validar la coherencia dentro de un conjunto o multiples conjuntos - Rangos y tipos de datos\n",
    "\n",
    "# Validar rangos de edades\n",
    "print(\"Edad minima:\", df_2016[\"PERS_EDAD_1\"].min())\n",
    "print(\"Edad maxima:\",df_2016[\"PERS_EDAD_1\"].max())\n",
    "\n",
    "# Validar Municipios\n",
    "print(\"Municipios:\", df_2016[\"PB_MUN\"].unique())\n",
    "\n",
    "# validar regiones\n",
    "print(\"Regiones:\", df_2016[\"ESTADO\"].unique())\n",
    "\n",
    "# validar Sexo\n",
    "print(\"Sexo:\", df_2016[\"PERS_SEXO_1\"].unique())\n"
   ]
  },
  {
   "cell_type": "markdown",
   "metadata": {},
   "source": [
    "##### Limpieza de datos"
   ]
  },
  {
   "cell_type": "code",
   "execution_count": null,
   "metadata": {},
   "outputs": [],
   "source": [
    "# Se eliminaran las columnas con mas de 90% de valores null\n",
    "for c in df_2016.columns:\n",
    "    if df_2016[c].isnull().sum() >= (df_2016[c].size * 0.90) :\n",
    "        print(\"\\n\" + c )\n",
    "        print(\"Cantidad de filas:\", df_2016[c].size)\n",
    "        print(\"Cantidad de filas Null:\", df_2016[c].isnull().sum())\n",
    "        \n",
    "        df_2016.drop(c, axis=1, inplace=True)\n"
   ]
  },
  {
   "cell_type": "code",
   "execution_count": null,
   "metadata": {},
   "outputs": [],
   "source": [
    "# rellenar vacios\n",
    "df_2016.fillna(method='bfill', inplace=True)"
   ]
  },
  {
   "cell_type": "code",
   "execution_count": null,
   "metadata": {},
   "outputs": [],
   "source": [
    "# ver muestra del data set\n",
    "df_2016.head()"
   ]
  },
  {
   "cell_type": "markdown",
   "metadata": {},
   "source": [
    "#### 2018"
   ]
  },
  {
   "cell_type": "markdown",
   "metadata": {},
   "source": [
    "##### Exploratorio"
   ]
  },
  {
   "cell_type": "code",
   "execution_count": null,
   "metadata": {},
   "outputs": [],
   "source": [
    "# ver muestra del data set\n",
    "df_2018.head()"
   ]
  },
  {
   "cell_type": "code",
   "execution_count": null,
   "metadata": {},
   "outputs": [],
   "source": [
    "# Informacion Basica del DF\n",
    "df_2018.info()"
   ]
  },
  {
   "cell_type": "markdown",
   "metadata": {},
   "source": [
    "##### Completitud"
   ]
  },
  {
   "cell_type": "code",
   "execution_count": null,
   "metadata": {},
   "outputs": [],
   "source": [
    "for c in df_2018.columns:\n",
    "    print(\"\\n\" + c )\n",
    "    print(\"Cantidad de filas:\", df_2018[c].size)\n",
    "    print(\"Cantidad de filas unicas:\", df_2018[c].nunique())\n",
    "    print(\"Cantidad de filas vacias:\",(df_2018[c] == \"\").sum())\n",
    "    print(\"Cantidad de filas Null:\", df_2018[c].isnull().sum())"
   ]
  },
  {
   "cell_type": "markdown",
   "metadata": {},
   "source": [
    "##### Unicidad"
   ]
  },
  {
   "cell_type": "code",
   "execution_count": null,
   "metadata": {},
   "outputs": [],
   "source": [
    "print(\"Cantidad de registros en el data frame:\", df_2018.shape[0])\n",
    "print(\"Cantidad de registros unicos en el data frame:\", df_2018.drop_duplicates().shape[0])"
   ]
  },
  {
   "cell_type": "markdown",
   "metadata": {},
   "source": [
    "##### Consistencia - Validez"
   ]
  },
  {
   "cell_type": "code",
   "execution_count": null,
   "metadata": {},
   "outputs": [],
   "source": [
    "# validar la coherencia dentro de un conjunto o multiples conjuntos - Rangos y tipos de datos\n",
    "\n",
    "# Validar rangos de edades\n",
    "print(\"Edad minima:\", df_2018[\"EDAD\"].min())\n",
    "print(\"Edad maxima:\",df_2018[\"EDAD\"].max())\n",
    "\n",
    "# Validar Municipios\n",
    "# print(\"Municipios:\", df_2018[\"MUN\"].unique())\n",
    "\n",
    "# validar regiones\n",
    "print(\"Region:\", df_2018[\"ESTADO\"].unique())\n",
    "\n",
    "# validar Sexo\n",
    "print(\"Sexo:\", df_2018[\"P1_SEXO_1\"].unique())\n"
   ]
  },
  {
   "cell_type": "markdown",
   "metadata": {},
   "source": [
    "##### Limpieza de datos"
   ]
  },
  {
   "cell_type": "code",
   "execution_count": null,
   "metadata": {},
   "outputs": [],
   "source": [
    "# Se eliminaran las columnas con mas de 90% de valores null\n",
    "for c in df_2018.columns:\n",
    "    if df_2018[c].isnull().sum() >= (df_2018[c].size * 0.90) :\n",
    "        print(\"\\n\" + c )\n",
    "        print(\"Cantidad de filas:\", df_2018[c].size)\n",
    "        print(\"Cantidad de filas Null:\", df_2018[c].isnull().sum())\n",
    "        \n",
    "        df_2018.drop(c, axis=1, inplace=True)\n"
   ]
  },
  {
   "cell_type": "code",
   "execution_count": null,
   "metadata": {},
   "outputs": [],
   "source": [
    "# rellenar vacios\n",
    "df_2018.fillna(method='bfill', inplace=True)"
   ]
  },
  {
   "cell_type": "code",
   "execution_count": null,
   "metadata": {},
   "outputs": [],
   "source": [
    "# ver muestra del data set\n",
    "df_2018.head()"
   ]
  },
  {
   "cell_type": "markdown",
   "metadata": {},
   "source": [
    "#### 2023"
   ]
  },
  {
   "cell_type": "markdown",
   "metadata": {},
   "source": [
    "##### Exploratorio"
   ]
  },
  {
   "cell_type": "code",
   "execution_count": null,
   "metadata": {},
   "outputs": [],
   "source": [
    "# ver muestra del data set\n",
    "df_2023.head()"
   ]
  },
  {
   "cell_type": "code",
   "execution_count": null,
   "metadata": {},
   "outputs": [],
   "source": [
    "# Informacion Basica del DF\n",
    "df_2023.info()"
   ]
  },
  {
   "cell_type": "markdown",
   "metadata": {},
   "source": [
    "##### Completitud"
   ]
  },
  {
   "cell_type": "code",
   "execution_count": null,
   "metadata": {},
   "outputs": [],
   "source": [
    "for c in df_2023.columns:\n",
    "    print(\"\\n\", c )\n",
    "    print(\"Cantidad de filas:\", df_2023[c].size)\n",
    "    print(\"Cantidad de filas unicas:\", df_2023[c].nunique())\n",
    "    print(\"Cantidad de filas vacias:\",(df_2023[c] == \"\").sum())\n",
    "    print(\"Cantidad de filas Null:\", df_2023[c].isnull().sum())"
   ]
  },
  {
   "cell_type": "markdown",
   "metadata": {},
   "source": [
    "##### Unicidad"
   ]
  },
  {
   "cell_type": "code",
   "execution_count": null,
   "metadata": {},
   "outputs": [],
   "source": [
    "print(\"Cantidad de registros en el data frame:\", df_2023.shape[0])\n",
    "print(\"Cantidad de registros unicos en el data frame:\", df_2023.drop_duplicates().shape[0])"
   ]
  },
  {
   "cell_type": "markdown",
   "metadata": {},
   "source": [
    "##### Consistencia - Validez"
   ]
  },
  {
   "cell_type": "code",
   "execution_count": null,
   "metadata": {},
   "outputs": [],
   "source": [
    "# validar la coherencia dentro de un conjunto o multiples conjuntos - Rangos y tipos de datos\n",
    "\n",
    "# Validar rangos de edades\n",
    "print(\"Edad minima:\", df_2023[\"EDAD_1\"].min())\n",
    "print(\"Edad maxima:\",df_2023[\"EDAD_1\"].max())\n",
    "\n",
    "# Validar Municipios\n",
    "print(\"Municipios:\", df_2023[\"MUNICIPIO\"].unique())\n",
    "\n",
    "# validar regiones\n",
    "print(\"Region:\", df_2023[\"REGION\"].unique())\n",
    "\n",
    "# validar Sexo\n",
    "print(\"Sexo:\", df_2023[\"SEXO_1\"].unique())\n"
   ]
  },
  {
   "cell_type": "markdown",
   "metadata": {},
   "source": [
    "##### Limpieza de datos"
   ]
  },
  {
   "cell_type": "code",
   "execution_count": null,
   "metadata": {},
   "outputs": [],
   "source": [
    "# Se eliminaran las columnas con mas de 90% de valores null\n",
    "for c in df_2023.columns:\n",
    "    if df_2023[c].isnull().sum() >= (df_2023[c].size * 0.90) :\n",
    "        print(\"\\n\", c )\n",
    "        print(\"Cantidad de filas:\", df_2023[c].size)\n",
    "        print(\"Cantidad de filas Null:\", df_2023[c].isnull().sum())\n",
    "        \n",
    "        df_2023.drop(c, axis=1, inplace=True)\n"
   ]
  },
  {
   "cell_type": "code",
   "execution_count": null,
   "metadata": {},
   "outputs": [],
   "source": [
    "# rellenar vacios\n",
    "df_2023.fillna(method='bfill', inplace=True)"
   ]
  },
  {
   "cell_type": "code",
   "execution_count": null,
   "metadata": {},
   "outputs": [],
   "source": [
    "# ver muestra del data set\n",
    "df_2023.head()"
   ]
  },
  {
   "cell_type": "markdown",
   "metadata": {},
   "source": [
    "### Resultado Analisis Exploratorio de los datos \n",
    "\n",
    "La informacion suministrados por el CNC muestra un nivel de granularidad Alta ya que cada registro en el data set representa un unico usuario encuestado y relacionado a este tenemos mas de 1000 dimensiones diferentes en donde podemos tener detalle de los datos basicos e informacion sensible de cada usuario encuestado.\n",
    "\n",
    "Por parte del CNC se entregan 5 data set's con estructuras similiares los cuales son encuestas a personas de colombia de zonas especificas para poder medir la adopcion digital del pais correctamente para los años:\n",
    "* 2012\n",
    "* 2013\n",
    "* 2016\n",
    "* 2018\n",
    "* 2023\n",
    "\n",
    "Ademas de la informacion del CNC como informacion externa se tiene la informacion publica del ICFES quienes realizan las encuestas a los participantes del examen quienes atienden preguntas que nos pueden indicar el nivel de adopcion digital de los participantes, por el momento solo se esta tomando la informacion de los participantes del examen saber 11 2024"
   ]
  },
  {
   "cell_type": "markdown",
   "metadata": {},
   "source": [
    "## Comparacion de data set's"
   ]
  },
  {
   "cell_type": "code",
   "execution_count": null,
   "metadata": {},
   "outputs": [],
   "source": [
    "\n",
    "# Lista de DataFrames y sus nombres\n",
    "dfs = [df_2012, df_2013, df_2016, df_2018, df_2023]\n",
    "nombres = [\"df_2012\", \"df_2013\", \"df_2016\", \"df_2018\", \"df_2023\"]\n",
    "\n",
    "# Extraemos el número de filas y columnas de cada DataFrame\n",
    "dimensiones = [(df.shape[0], df.shape[1]) for df in dfs]\n",
    "filas = [dim[0] for dim in dimensiones]\n",
    "columnas = [dim[1] for dim in dimensiones]\n",
    "\n",
    "# Configuración del gráfico de barras agrupadas\n",
    "x = np.arange(len(nombres))  # posiciones de los grupos en el eje x\n",
    "width = 0.35  # ancho de las barras\n",
    "\n",
    "fig, ax = plt.subplots(figsize=(10, 6))\n",
    "# Barras de filas\n",
    "bars1 = ax.bar(x - width/2, filas, width, label='Registros', color='skyblue')\n",
    "# Barras de columnas\n",
    "bars2 = ax.bar(x + width/2, columnas, width, label='Dimensiones', color='salmon')\n",
    "\n",
    "# Etiquetas y título\n",
    "ax.set_xlabel('DataFrames')\n",
    "ax.set_ylabel('Cantidad')\n",
    "ax.set_title('Cantidad de Dimensiones y Registros por Data Set')\n",
    "ax.set_xticks(x)\n",
    "ax.set_xticklabels(nombres)\n",
    "ax.legend()\n",
    "\n",
    "# Mostrar valores encima de las barras\n",
    "for bar in bars1:\n",
    "    yval = bar.get_height()\n",
    "    ax.text(bar.get_x() + bar.get_width()/2, yval + 0.5, int(yval), ha='center')\n",
    "for bar in bars2:\n",
    "    yval = bar.get_height()\n",
    "    ax.text(bar.get_x() + bar.get_width()/2, yval + 0.5, int(yval), ha='center')\n",
    "\n",
    "plt.show()\n"
   ]
  }
 ],
 "metadata": {
  "kernelspec": {
   "display_name": "Python 3",
   "language": "python",
   "name": "python3"
  },
  "language_info": {
   "codemirror_mode": {
    "name": "ipython",
    "version": 3
   },
   "file_extension": ".py",
   "mimetype": "text/x-python",
   "name": "python",
   "nbconvert_exporter": "python",
   "pygments_lexer": "ipython3",
   "version": "3.12.3"
  }
 },
 "nbformat": 4,
 "nbformat_minor": 2
}
