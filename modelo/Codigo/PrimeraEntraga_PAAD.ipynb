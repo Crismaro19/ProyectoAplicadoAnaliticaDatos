{
 "cells": [
  {
   "cell_type": "markdown",
   "id": "f4b76dcd-290e-481c-b077-a50b552a8eac",
   "metadata": {},
   "source": [
    "# Librerías"
   ]
  },
  {
   "cell_type": "code",
   "execution_count": null,
   "id": "e53ae77a-86a9-456d-be8e-49fc56d09b6a",
   "metadata": {},
   "outputs": [],
   "source": [
    "import os\n",
    "\n",
    "# Librerias base para el analisis y manejo de datos\n",
    "import numpy as np\n",
    "import pandas as pd\n",
    "\n",
    "pd.set_option('display.float_format', '{:.2f}'.format)\n",
    "pd.set_option('display.max_rows', None)\n",
    "pd.set_option('display.max_columns', None)\n",
    "\n",
    "# Librerias con los modelos principales\n",
    "from sklearn.cluster import KMeans\n",
    "from sklearn_extra.cluster import KMedoids \n",
    "\n",
    "# Libnreria para medir los resultados de los modelos\n",
    "from sklearn.metrics import silhouette_score, adjusted_rand_score, calinski_harabasz_score\n",
    "\n",
    "# Libreria para graficar\n",
    "import matplotlib.pyplot as plt\n",
    "\n",
    "# Estandarizar la data\n",
    "from sklearn.preprocessing import StandardScaler\n",
    "\n",
    "# Reducir la dimensionalidad para graficas\n",
    "from sklearn.manifold import MDS\n",
    "\n",
    "# metodo para recrear un iterador infinito\n",
    "from itertools import cycle"
   ]
  },
  {
   "cell_type": "markdown",
   "id": "648ea397-4479-4c65-978f-04ba181d38a6",
   "metadata": {},
   "source": [
    "# Funciones"
   ]
  },
  {
   "cell_type": "code",
   "execution_count": null,
   "id": "ee7b594d-f8ec-4b34-b850-9b07fa02f3de",
   "metadata": {},
   "outputs": [],
   "source": [
    "def convertir_col_numericas(df, lista_columnas):\n",
    "\n",
    "    for columna in lista_columnas:\n",
    "\n",
    "        df[columna] = df[columna].str.replace(',00', '', regex=False)\n",
    "        df[columna] = df[columna].str.replace('.', '', regex=False)\n",
    "        df[columna] = df[columna].str.replace(',', '.', regex=False).astype(float)\n",
    "\n",
    "    return df\n",
    "\n",
    "def porcentaje_participacion(df, lista_col, col_total):\n",
    "\n",
    "    for col in lista_col:\n",
    "        \n",
    "        df[f'Porc_part_{col}'] = df[col] / df[col_total]\n",
    "\n",
    "    return df\n",
    "\n",
    "\n",
    "def crear_grafico_dispersion(modelo_fit, df, y):\n",
    "    colors = plt.cm.tab20.colors + plt.cm.tab20b.colors\n",
    "    color_cycle = cycle(colors)\n",
    "    mds = MDS(n_components=2, dissimilarity = 'euclidean', random_state=123)\n",
    "    df_transformado = mds.fit_transform(df)\n",
    "\n",
    "    unique_labels = np.unique(modelo_fit.labels_)\n",
    "\n",
    "    plt.figure(figsize=(10, 7))\n",
    "    \n",
    "    for idx, label in enumerate(unique_labels):\n",
    "        color = next(color_cycle)  # Obtener el siguiente color del ciclo\n",
    "        plt.scatter(df_transformado[modelo_fit.labels_ == label, 0], \n",
    "                    df_transformado[modelo_fit.labels_ == label, 1], \n",
    "                    label=f'Cluster {label}',\n",
    "                    color=color)\n",
    "    # Agregar las etiquetas de cada punto\n",
    "    for i in range(df_transformado.shape[0]):\n",
    "        plt.text(df_transformado[i, 0], \n",
    "                 df_transformado[i, 1], \n",
    "                 y.iloc[i, 0],  \n",
    "                 fontsize=9, \n",
    "                 ha='right', \n",
    "                 color='black')\n",
    "\n",
    "    plt.title('MDS Plot of Data with Labels')\n",
    "    plt.xlabel('Dimension 1')\n",
    "    plt.ylabel('Dimension 2')\n",
    "    plt.legend()\n",
    "    plt.show()"
   ]
  },
  {
   "cell_type": "markdown",
   "id": "dccf129e-90d0-413c-a807-6126994bdfe5",
   "metadata": {},
   "source": [
    "# Preparación bases de datos"
   ]
  },
  {
   "cell_type": "markdown",
   "id": "8613f13b",
   "metadata": {},
   "source": [
    "## Base municipios"
   ]
  },
  {
   "cell_type": "code",
   "execution_count": null,
   "id": "a3ecb6ea",
   "metadata": {},
   "outputs": [],
   "source": [
    "# Base Municipios\n",
    "df_base = pd.read_excel(\"../Data/DIVIPOLA_Municipios.xlsx\")\n",
    "\n",
    "#\n",
    "display(df_base.shape)\n",
    "df_base.head()"
   ]
  },
  {
   "cell_type": "code",
   "execution_count": null,
   "id": "7d49fcca",
   "metadata": {},
   "outputs": [],
   "source": [
    "df_base[df_base['CodigoM'] == 5001]"
   ]
  },
  {
   "cell_type": "markdown",
   "id": "38e54fb8",
   "metadata": {},
   "source": [
    "## Finanzas"
   ]
  },
  {
   "cell_type": "code",
   "execution_count": null,
   "id": "19bd6350",
   "metadata": {},
   "outputs": [],
   "source": [
    "# Fiananzas\n",
    "df_finanzas = pd.read_csv(\"../Data/archivos_csv/Fiananzascompilado.txt\", sep=\"|\", encoding=\"utf-8\")\n",
    "\n",
    "# Se toma del dataset el valor del presupuesto del SGP asignado a las entidades territoriales para el último año\n",
    "df_finanzas = df_finanzas[(df_finanzas['Subcategoría']== 'SGP - Distribución asignaciones SGP por sectores') & (df_finanzas['Año']== 2023)]\n",
    "\n",
    "# Previsualizacion de los datos\n",
    "display(df_finanzas.shape)\n",
    "df_finanzas.head(5)"
   ]
  },
  {
   "cell_type": "code",
   "execution_count": null,
   "id": "beea6232-adcc-4c66-8ef0-3aaa9baa50b3",
   "metadata": {},
   "outputs": [],
   "source": [
    "# Identificamos los indicadores que se tienen por municipio\n",
    "df_finanzas['Indicador'].unique()"
   ]
  },
  {
   "cell_type": "code",
   "execution_count": null,
   "id": "c719c1ae-b0d1-4869-abae-57d0d5e4c034",
   "metadata": {},
   "outputs": [],
   "source": [
    "# Filtramos aquellos datos que no son de interés para el estudio\n",
    "lista_var_eliminar = ['Salud', 'Agua potable', 'Alimentación escolar', 'Primera infancia', 'Ribereños', 'Resguardos indígenas', 'Fonpet']\n",
    "df_finanzas = df_finanzas[~df_finanzas['Indicador'].isin(lista_var_eliminar)]"
   ]
  },
  {
   "cell_type": "code",
   "execution_count": null,
   "id": "950cb279",
   "metadata": {},
   "outputs": [],
   "source": [
    "# dejar datos por municipio / son 23 años\n",
    "df_finanzas1 = df_finanzas.pivot(\n",
    "    index=['Código Entidad', 'Entidad'],\n",
    "    columns='Indicador',\n",
    "    values='Dato Numérico'\n",
    ").reset_index()"
   ]
  },
  {
   "cell_type": "code",
   "execution_count": null,
   "id": "3031999a-19a9-46e3-a39f-40efc7a17e3b",
   "metadata": {},
   "outputs": [],
   "source": [
    "df_finanzas1['Educación'].dtype"
   ]
  },
  {
   "cell_type": "code",
   "execution_count": null,
   "id": "dc93f1cc-975c-4453-8ccf-55bd4ef55f10",
   "metadata": {},
   "outputs": [],
   "source": [
    "# Estandarizar columnas numericas\n",
    "df_finanzas1 = convertir_col_numericas(df_finanzas1, ['Educación', 'Propósito general', 'Total SGP'])\n"
   ]
  },
  {
   "cell_type": "code",
   "execution_count": null,
   "id": "d8ef8bd0-3aa9-4a7e-812c-f715b2c56724",
   "metadata": {},
   "outputs": [],
   "source": [
    "# Porcentaje participacion\n",
    "df_finanzas1 = porcentaje_participacion(df_finanzas1, ['Educación', 'Propósito general'], 'Total SGP')"
   ]
  },
  {
   "cell_type": "code",
   "execution_count": null,
   "id": "7ef7ea23-5f64-448e-98a8-ea63796a0b5f",
   "metadata": {},
   "outputs": [],
   "source": [
    "df_finanzas1.head(5)"
   ]
  },
  {
   "cell_type": "code",
   "execution_count": null,
   "id": "c0f03c90-dd46-4d51-b135-6d5678caef82",
   "metadata": {},
   "outputs": [],
   "source": [
    "# Seleccion final de variables\n",
    "edu_seleccionadas = ['Código Entidad', 'Entidad', 'Porc_part_Educación', 'Porc_part_Propósito general']\n",
    "\n",
    "df_finanzas_final = df_finanzas1[edu_seleccionadas]"
   ]
  },
  {
   "cell_type": "code",
   "execution_count": null,
   "id": "81207292-7872-43d5-a60c-049e3985c93f",
   "metadata": {},
   "outputs": [],
   "source": [
    "df_finanzas_final.head(3)"
   ]
  },
  {
   "cell_type": "code",
   "execution_count": null,
   "id": "429eac61-eaa0-4963-87d4-45bc20857ecd",
   "metadata": {},
   "outputs": [],
   "source": [
    "df_finanzas_final.groupby('Código Entidad').size().reset_index(name='cantidad').sort_values(by='cantidad', ascending=False).head(2)\n"
   ]
  },
  {
   "cell_type": "markdown",
   "id": "a2ae38ad",
   "metadata": {},
   "source": [
    "## Economia"
   ]
  },
  {
   "cell_type": "code",
   "execution_count": null,
   "id": "0a39bf4d",
   "metadata": {},
   "outputs": [],
   "source": [
    "# Economia\n",
    "df_economia = pd.read_csv(\"../Data/archivos_csv/Economia.csv\", sep=\";\", encoding=\"ISO-8859-1\", low_memory=False)\n",
    "df_economia = df_economia[(df_economia['Año']==2023) & (df_economia['Subcategoría']== 'PIB')]\n",
    "df_economia['Código Departamento'] = df_economia['Código Departamento'].astype(int)\n",
    "\n",
    "# \n",
    "display(df_economia.shape)\n",
    "df_economia.head()"
   ]
  },
  {
   "cell_type": "code",
   "execution_count": null,
   "id": "e1f2aea8-e31f-4f53-8597-1e3efca0276d",
   "metadata": {},
   "outputs": [],
   "source": [
    "# Identificamos los indicadores presentes en el dataset\n",
    "df_economia['Indicador'].unique()"
   ]
  },
  {
   "cell_type": "code",
   "execution_count": null,
   "id": "551c7f59-f090-47bf-83e7-f71e32485abb",
   "metadata": {},
   "outputs": [],
   "source": [
    "# Escogemos los indicadores relevantes para el estudio\n",
    "\n",
    "llaves = [\n",
    "    'PIB per cápita', 'PIB',\n",
    "    'PIB por actividades económicas - Información y comunicaciones (Información y comunicaciones)',\n",
    "    'PIB por actividades económicas - Actividades financieras (Actividades financieras y de seguros)',\n",
    "    'PIB por actividades económicas - Actividades profesionales (Actividades profesionales, científicas y técnicas; actividades de servicios administrativos y de apoyo)'\n",
    "]\n",
    " \n",
    "\n",
    "lista_economia1 = ['PIB',\n",
    "                  'PIB_per_capita',\n",
    "                  'PIB_info_comunicaciones',\n",
    "                  'PIB_act_financieras',\n",
    "                  'PIB_act_prof'\n",
    "                 ]\n",
    "\n",
    "# Filtramos aquellos datos que no son de interés para el estudio\n",
    "df_economia = df_economia[df_economia['Indicador'].isin(llaves)]"
   ]
  },
  {
   "cell_type": "code",
   "execution_count": null,
   "id": "3c2c33e5-4b0d-4a54-be1d-a42957baf454",
   "metadata": {},
   "outputs": [],
   "source": [
    "# dejar datos por municipio\n",
    "df_economia1 = df_economia.pivot(\n",
    "    index=['Código Departamento', 'Departamento'],\n",
    "    columns='Indicador',\n",
    "    values='Dato Numérico'\n",
    ").reset_index()"
   ]
  },
  {
   "cell_type": "code",
   "execution_count": null,
   "id": "35946f00-7a6f-41a0-9f18-f60550a6b221",
   "metadata": {},
   "outputs": [],
   "source": [
    "df_economia1 = df_economia1.rename(columns={\n",
    "    'PIB per cápita': 'PIB_per_capita',\n",
    "    'PIB por actividades económicas - Información y comunicaciones (Información y comunicaciones)': 'PIB_info_comunicaciones',\n",
    "    'PIB por actividades económicas - Actividades financieras (Actividades financieras y de seguros)': 'PIB_act_financieras',\n",
    "    'PIB por actividades económicas - Actividades profesionales (Actividades profesionales, científicas y técnicas; actividades de servicios administrativos y de apoyo)': 'PIB_act_prof'\n",
    "})"
   ]
  },
  {
   "cell_type": "code",
   "execution_count": null,
   "id": "c163ee00-1679-4ca4-a5bf-a40952f11fdf",
   "metadata": {},
   "outputs": [],
   "source": [
    "# Estandarizar columnas numericas\n",
    "df_economia1 = convertir_col_numericas(df_economia1, lista_economia1)\n"
   ]
  },
  {
   "cell_type": "code",
   "execution_count": null,
   "id": "b2db86f9-73ad-43cc-8516-f2fea7369435",
   "metadata": {},
   "outputs": [],
   "source": [
    "# Porcentaje participacion\n",
    "df_economia1 = porcentaje_participacion(df_economia1, lista_economia1, 'PIB')"
   ]
  },
  {
   "cell_type": "code",
   "execution_count": null,
   "id": "e2b57861-bafb-4587-a9fa-44a08545b78e",
   "metadata": {},
   "outputs": [],
   "source": [
    "df_economia1.head(3)"
   ]
  },
  {
   "cell_type": "code",
   "execution_count": null,
   "id": "7b5efa75-88c2-4913-8f78-8735fdfbd445",
   "metadata": {},
   "outputs": [],
   "source": [
    "# Seleccion final de variables\n",
    "\n",
    "econo_seleccionadas = ['Código Departamento', 'Departamento', 'PIB_per_capita', 'PIB_act_financieras', 'PIB_act_prof', 'PIB_info_comunicaciones']\n",
    "df_economia_final = df_economia1[econo_seleccionadas]"
   ]
  },
  {
   "cell_type": "code",
   "execution_count": null,
   "id": "4bb24d5f-fde0-4cc7-9e6a-146638aa0fd0",
   "metadata": {},
   "outputs": [],
   "source": [
    "df_economia_final.head(3)"
   ]
  },
  {
   "cell_type": "code",
   "execution_count": null,
   "id": "ca84f954-1fd8-4c94-95be-94f36e070619",
   "metadata": {},
   "outputs": [],
   "source": [
    "df_economia_final.groupby('Departamento').size().reset_index(name='cantidad').sort_values(by='cantidad', ascending=False).head(2)\n"
   ]
  },
  {
   "cell_type": "markdown",
   "id": "274ceaa2",
   "metadata": {},
   "source": [
    "## Educacion"
   ]
  },
  {
   "cell_type": "code",
   "execution_count": null,
   "id": "a64dc4f1",
   "metadata": {},
   "outputs": [],
   "source": [
    "# Economia\n",
    "df_educacion = pd.read_csv(\"../Data/archivos_csv/Educacion.csv\", sep=\";\", encoding=\"ISO-8859-1\", low_memory=False)\n",
    "\n",
    "df_educacion = df_educacion[df_educacion['Año']==2022]\n",
    "\n",
    "# \n",
    "display(df_educacion.shape)\n",
    "df_educacion.head()"
   ]
  },
  {
   "cell_type": "code",
   "execution_count": null,
   "id": "87dda1c3",
   "metadata": {},
   "outputs": [],
   "source": [
    "df_educacion['Subcategoría'].unique()"
   ]
  },
  {
   "cell_type": "code",
   "execution_count": null,
   "id": "8cd08852-c021-4489-9e88-79da8f3c83bf",
   "metadata": {},
   "outputs": [],
   "source": [
    "lista_educacion = ['Cobertura neta en educación - Total',\n",
    "                   'Cobertura neta en educación media',\n",
    "                   'Tasa de repitencia del sector oficial en educación básica y media (Desde transición hasta once)']\n",
    "                   "
   ]
  },
  {
   "cell_type": "code",
   "execution_count": null,
   "id": "10680561-04ca-4fa6-bddb-c2dd412bff07",
   "metadata": {},
   "outputs": [],
   "source": [
    "df_educacion = df_educacion[df_educacion['Indicador'].isin(lista_educacion)]"
   ]
  },
  {
   "cell_type": "code",
   "execution_count": null,
   "id": "ad4e70c5",
   "metadata": {},
   "outputs": [],
   "source": [
    "# dejar datos por municipio \n",
    "df_educacion1 = df_educacion.pivot(\n",
    "    index=['Código Entidad', 'Entidad'],\n",
    "    columns='Indicador',\n",
    "    values='Dato Numérico'\n",
    ").reset_index()"
   ]
  },
  {
   "cell_type": "code",
   "execution_count": null,
   "id": "c06c5e47-d5c4-43df-b9a1-2ad0cb29379a",
   "metadata": {},
   "outputs": [],
   "source": [
    "df_educacion1 = df_educacion1.rename(columns={\n",
    "    'Cobertura neta en educación - Total': 'Cobertura_edu_total',\n",
    "    'Cobertura neta en educación media': 'Cobertura_edu_media',\n",
    "    'Tasa de repitencia del sector oficial en educación básica y media (Desde transición hasta once)': 'Tasa_repitencia'\n",
    "})"
   ]
  },
  {
   "cell_type": "code",
   "execution_count": null,
   "id": "6ed8f007",
   "metadata": {},
   "outputs": [],
   "source": [
    "lista_edu1 = ['Cobertura_edu_total', 'Cobertura_edu_media', 'Tasa_repitencia']\n",
    "df_educacion1 = convertir_col_numericas(df_educacion1, lista_edu1)"
   ]
  },
  {
   "cell_type": "code",
   "execution_count": null,
   "id": "cd44011d-a4b5-4c19-bd32-5cbbc29c8269",
   "metadata": {},
   "outputs": [],
   "source": [
    "df_educacion1.head(5)"
   ]
  },
  {
   "cell_type": "markdown",
   "id": "2e4c8b6f",
   "metadata": {},
   "source": [
    "## Inversion en Investicacion Ciencia"
   ]
  },
  {
   "cell_type": "code",
   "execution_count": null,
   "id": "5b975ca5",
   "metadata": {},
   "outputs": [],
   "source": [
    "# Economia\n",
    "df_InvCientifica = pd.read_csv(\"../Data/archivos_csv/Inversion_investicacion_ciencia.csv\", sep=\";\", encoding=\"ISO-8859-1\", low_memory=False)\n",
    "df_InvCientifica = df_InvCientifica[df_InvCientifica['Año']==2021]\n",
    "# \n",
    "display(df_InvCientifica.shape)\n",
    "df_InvCientifica.head()"
   ]
  },
  {
   "cell_type": "code",
   "execution_count": null,
   "id": "96c366fa-fbab-44b7-90fa-4fa47adeba2e",
   "metadata": {},
   "outputs": [],
   "source": [
    "df_InvCientifica['Indicador'].unique()"
   ]
  },
  {
   "cell_type": "code",
   "execution_count": null,
   "id": "6b8087b9",
   "metadata": {},
   "outputs": [],
   "source": [
    "# dejar datos por municipio / son 23 años\n",
    "df_InvCientifica1 = df_InvCientifica.pivot(\n",
    "    index=['Código Departamento', 'Departamento'],\n",
    "    columns='Indicador',\n",
    "    values='Dato Numérico'\n",
    ").reset_index()"
   ]
  },
  {
   "cell_type": "code",
   "execution_count": null,
   "id": "2d82d366-6af8-48b1-b485-8fa0f4774e15",
   "metadata": {},
   "outputs": [],
   "source": [
    "df_InvCientifica1 = df_InvCientifica1.rename(columns={\n",
    "    'Inversión departamental en Investigación y Desarrollo (I+D) como porcentaje del Producto Interno Bruto (PIB)': 'Inv_Ciencia'\n",
    "})"
   ]
  },
  {
   "cell_type": "code",
   "execution_count": null,
   "id": "8f6681bb-7de7-437c-b498-a75722558d05",
   "metadata": {},
   "outputs": [],
   "source": [
    "df_InvCientifica1 = convertir_col_numericas(df_InvCientifica1, ['Inv_Ciencia'])"
   ]
  },
  {
   "cell_type": "code",
   "execution_count": null,
   "id": "3a0e7719-9ec5-464c-9860-f0f9b34b45f8",
   "metadata": {},
   "outputs": [],
   "source": [
    "df_InvCientifica1.head(5)"
   ]
  },
  {
   "cell_type": "markdown",
   "id": "4d805d1e",
   "metadata": {},
   "source": [
    "## Mercado laboral"
   ]
  },
  {
   "cell_type": "code",
   "execution_count": null,
   "id": "ba80b388",
   "metadata": {},
   "outputs": [],
   "source": [
    "# Economia\n",
    "df_mercadoLaboral = pd.read_csv(\"../Data/archivos_csv/Mercado_laboral.csv\", sep=\";\", encoding=\"ISO-8859-1\", low_memory=False)\n",
    "df_mercadoLaboral = df_mercadoLaboral[df_mercadoLaboral['Año'] == 2016]\n",
    "# \n",
    "display(df_mercadoLaboral.shape)\n",
    "df_mercadoLaboral.head()"
   ]
  },
  {
   "cell_type": "code",
   "execution_count": null,
   "id": "28e75223-f78a-441f-8623-1d0804803353",
   "metadata": {},
   "outputs": [],
   "source": [
    "df_mercadoLaboral['Subcategoría'].unique()"
   ]
  },
  {
   "cell_type": "code",
   "execution_count": null,
   "id": "725f6b14-27e9-422f-a9f7-ed7cb4378288",
   "metadata": {},
   "outputs": [],
   "source": [
    "lista_laboral = ['Porcentaje de personas ocupadas formalmente con respecto a la población total']"
   ]
  },
  {
   "cell_type": "code",
   "execution_count": null,
   "id": "74f63169-0e3b-4dcd-9139-f844038a7ff8",
   "metadata": {},
   "outputs": [],
   "source": [
    "df_mercadoLaboral1 = df_mercadoLaboral[df_mercadoLaboral['Indicador'].isin(lista_laboral)]"
   ]
  },
  {
   "cell_type": "code",
   "execution_count": null,
   "id": "ef0c86c5",
   "metadata": {},
   "outputs": [],
   "source": [
    "# dejar datos por municipio / son 23 años\n",
    "df_mercadoLaboral1 = df_mercadoLaboral1.pivot(\n",
    "    index=['Código Entidad', 'Entidad'],\n",
    "    columns='Indicador',\n",
    "    values='Dato Numérico'\n",
    ").reset_index()"
   ]
  },
  {
   "cell_type": "code",
   "execution_count": null,
   "id": "b3a83219-0730-4812-9917-ebc6aba31f58",
   "metadata": {},
   "outputs": [],
   "source": [
    "df_mercadoLaboral1 = convertir_col_numericas(df_mercadoLaboral1, lista_laboral)"
   ]
  },
  {
   "cell_type": "code",
   "execution_count": null,
   "id": "ce2ea989-b04b-4d9d-a606-ba2286b99874",
   "metadata": {},
   "outputs": [],
   "source": [
    "df_mercadoLaboral1 = df_mercadoLaboral1.rename(columns={\n",
    "    'Porcentaje de personas ocupadas formalmente con respecto a la población total': 'Porc_trabajos_formales'\n",
    "})"
   ]
  },
  {
   "cell_type": "code",
   "execution_count": null,
   "id": "b1be6449-cea7-4f33-b859-8d9099c54354",
   "metadata": {},
   "outputs": [],
   "source": [
    "df_mercadoLaboral1['Porc_trabajos_formales'] = df_mercadoLaboral1['Porc_trabajos_formales'] / 100"
   ]
  },
  {
   "cell_type": "code",
   "execution_count": null,
   "id": "567c1a75-1edc-42dc-b460-918e5de4ec60",
   "metadata": {},
   "outputs": [],
   "source": [
    "df_mercadoLaboral1.head(5)"
   ]
  },
  {
   "cell_type": "markdown",
   "id": "b6b2ed2b-8420-4ead-b300-5a7f5560698f",
   "metadata": {},
   "source": [
    "## Transaccionalidad"
   ]
  },
  {
   "cell_type": "code",
   "execution_count": null,
   "id": "cc8698ab-0d7a-464a-b14a-1b0059fdb08c",
   "metadata": {},
   "outputs": [],
   "source": [
    "df_transacciones = pd.read_csv(\"../Data/archivos_csv/transaccionalidad.csv\", sep=\",\", encoding=\"utf-8\")"
   ]
  },
  {
   "cell_type": "code",
   "execution_count": null,
   "id": "6c8ad1a6-b7e4-4d45-95a5-478692512818",
   "metadata": {},
   "outputs": [],
   "source": [
    "display(df_transacciones.shape)\n",
    "df_transacciones.head(3)"
   ]
  },
  {
   "cell_type": "code",
   "execution_count": null,
   "id": "efc1f987-b8fe-448e-a674-7629676b7a2e",
   "metadata": {},
   "outputs": [],
   "source": [
    "# Seleccionamos los codigos de operacion digitales\n",
    "lista_operaciones_digitales = [1, 6, 7, 8, 13, 18]\n",
    "df_transacciones = df_transacciones[df_transacciones['CODIGO_CANAL_DISTRIBUCION'].isin(lista_operaciones_digitales)]"
   ]
  },
  {
   "cell_type": "code",
   "execution_count": null,
   "id": "21253888-fcaf-4f81-8ede-bd27bbcdabe9",
   "metadata": {},
   "outputs": [],
   "source": [
    "df_transacciones1 = df_transacciones.groupby('CODIGO_MUNICIPIO', as_index=False)[['CANTIDAD_OPERACIONES', 'MONTO_OPERACIONES']].sum()\n"
   ]
  },
  {
   "cell_type": "code",
   "execution_count": null,
   "id": "9906f07a-d066-4380-a251-b47975cd360e",
   "metadata": {},
   "outputs": [],
   "source": [
    "df_transacciones1.head(5)"
   ]
  },
  {
   "cell_type": "markdown",
   "id": "6712b76c-89db-4f87-a203-a637c575da71",
   "metadata": {},
   "source": [
    "## Indice adopcion digital"
   ]
  },
  {
   "cell_type": "markdown",
   "id": "6836f6e4-ecb6-4422-af68-b709fa20efd3",
   "metadata": {},
   "source": [
    "### 2016"
   ]
  },
  {
   "cell_type": "code",
   "execution_count": null,
   "id": "b32ae0c5-2934-4af3-99d0-151caa35727c",
   "metadata": {},
   "outputs": [],
   "source": [
    "df_CNC_2016 = pd.read_csv(\"../Data/archivos_csv/d2016---copia.csv\", sep=\";\", encoding=\"ISO-8859-1\", low_memory=False)\n",
    "\n",
    "df_CNC_2016.head(5)"
   ]
  },
  {
   "cell_type": "code",
   "execution_count": null,
   "id": "8f4fc47a-e366-4b24-925f-8bcef17497b2",
   "metadata": {},
   "outputs": [],
   "source": [
    "col_2016 = ['PB_DANE', 'INDICADOR']\n",
    "df_CNC_2016 = df_CNC_2016[col_2016]"
   ]
  },
  {
   "cell_type": "code",
   "execution_count": null,
   "id": "1d03da48-c524-40be-bac6-4872df5878a6",
   "metadata": {},
   "outputs": [],
   "source": [
    "df_CNC_2016['INDICADOR'] = df_CNC_2016['INDICADOR'].str.replace(',', '.', regex=False).astype(float)"
   ]
  },
  {
   "cell_type": "code",
   "execution_count": null,
   "id": "e0297472-e07b-4ca6-bacc-9052852f5ebd",
   "metadata": {},
   "outputs": [],
   "source": [
    "df_CNC_2016.head(3)"
   ]
  },
  {
   "cell_type": "code",
   "execution_count": null,
   "id": "b4d0a559-ee2c-4131-aec3-26a486beeb2e",
   "metadata": {},
   "outputs": [],
   "source": [
    "df_CNC_2016_1 = df_CNC_2016.groupby('PB_DANE', as_index=False)[['INDICADOR']].mean()\n",
    "df_CNC_2016_1['Año_datos'] = 2016"
   ]
  },
  {
   "cell_type": "code",
   "execution_count": null,
   "id": "7364437d-2add-4f3a-89cf-01e236529efd",
   "metadata": {},
   "outputs": [],
   "source": [
    "df_CNC_2016_1.head(3)"
   ]
  },
  {
   "cell_type": "markdown",
   "id": "ec6117fe-5697-45fb-9066-8658d0b066cb",
   "metadata": {},
   "source": [
    "### 2018"
   ]
  },
  {
   "cell_type": "code",
   "execution_count": null,
   "id": "64dbb5bc-c9ac-4870-8238-3afd79994d8a",
   "metadata": {},
   "outputs": [],
   "source": [
    "df_CNC_2018 = pd.read_csv(\"../Data/archivos_csv/d2018---copia.csv\", sep=\";\", encoding=\"ISO-8859-1\", low_memory=False)\n",
    "\n",
    "df_CNC_2018.head(5)"
   ]
  },
  {
   "cell_type": "code",
   "execution_count": null,
   "id": "19a234a0-6745-4931-9567-810b28e3aa50",
   "metadata": {},
   "outputs": [],
   "source": [
    "col_2018 = ['PB', 'INDICADOR']\n",
    "df_CNC_2018 = df_CNC_2018[col_2018]"
   ]
  },
  {
   "cell_type": "code",
   "execution_count": null,
   "id": "5cc0a1c4-c25f-4431-b181-58fdcbc2baa8",
   "metadata": {},
   "outputs": [],
   "source": [
    "df_CNC_2018_1 = df_CNC_2018.groupby('PB', as_index=False)[['INDICADOR']].mean()\n",
    "df_CNC_2018_1['Año_datos'] = 2018"
   ]
  },
  {
   "cell_type": "code",
   "execution_count": null,
   "id": "1e098a8b-5c27-46cc-9419-c4693045ab13",
   "metadata": {},
   "outputs": [],
   "source": [
    "df_CNC_2018_1 = df_CNC_2018_1.rename(columns={\n",
    "    'PB': 'PB_DANE'\n",
    "})"
   ]
  },
  {
   "cell_type": "code",
   "execution_count": null,
   "id": "78df2929-2a35-4dfd-a28c-45faa61e0140",
   "metadata": {},
   "outputs": [],
   "source": [
    "df_CNC_2016_1.head(3)"
   ]
  },
  {
   "cell_type": "markdown",
   "id": "5dd9532f-d44d-4d4e-a7f9-5294f70d2129",
   "metadata": {},
   "source": [
    "### 2023"
   ]
  },
  {
   "cell_type": "code",
   "execution_count": null,
   "id": "cbaf8a90-44f0-41d8-a3df-7b047ba11e60",
   "metadata": {},
   "outputs": [],
   "source": [
    "df_CNC_2023 = pd.read_csv(\"../Data/archivos_csv/d2023---copia.csv\", sep=\";\", encoding=\"ISO-8859-1\", low_memory=False)\n",
    "\n",
    "df_CNC_2023.head(5)"
   ]
  },
  {
   "cell_type": "code",
   "execution_count": null,
   "id": "a1c066be-b80d-40c0-bb99-863086ea4385",
   "metadata": {},
   "outputs": [],
   "source": [
    "col_2023 = ['DANE', 'indicador']\n",
    "df_CNC_2023 = df_CNC_2023[col_2023]"
   ]
  },
  {
   "cell_type": "code",
   "execution_count": null,
   "id": "870abfc4-dc67-4e22-a907-c744d114b77e",
   "metadata": {},
   "outputs": [],
   "source": [
    "df_CNC_2023['indicador'] = df_CNC_2023['indicador'].str.strip()\n",
    "df_CNC_2023['indicador'] = df_CNC_2023['indicador'].str.replace('-', '0', regex=False)\n",
    "df_CNC_2023['indicador'] = df_CNC_2023['indicador'].str.replace(',', '.', regex=False).astype(float)"
   ]
  },
  {
   "cell_type": "code",
   "execution_count": null,
   "id": "e81d5b48-5a10-4c24-acba-ddf7cfc2aadb",
   "metadata": {},
   "outputs": [],
   "source": [
    "df_CNC_2023_1 = df_CNC_2023.groupby('DANE', as_index=False)[['indicador']].mean()\n",
    "df_CNC_2023_1['Año_datos'] = 2023"
   ]
  },
  {
   "cell_type": "code",
   "execution_count": null,
   "id": "052bf8a2-1c0b-4a6e-99c8-64fb4835b2ec",
   "metadata": {},
   "outputs": [],
   "source": [
    "df_CNC_2023_1 = df_CNC_2023_1.rename(columns={\n",
    "    'DANE': 'PB_DANE',\n",
    "    'indicador': 'INDICADOR'\n",
    "})"
   ]
  },
  {
   "cell_type": "code",
   "execution_count": null,
   "id": "35e6b200-56bc-40e7-b45f-1ec6f0435d5f",
   "metadata": {},
   "outputs": [],
   "source": [
    "df_CNC_2023_1.head(3)"
   ]
  },
  {
   "cell_type": "markdown",
   "id": "84372b33-15e7-4dee-bed5-39a3ff3f8011",
   "metadata": {},
   "source": [
    "### Validacion columnas"
   ]
  },
  {
   "cell_type": "code",
   "execution_count": null,
   "id": "909ab807-2664-4ca3-8961-51fb729ebaa2",
   "metadata": {},
   "outputs": [],
   "source": [
    "print(df_CNC_2016_1.columns, df_CNC_2016_1.shape[0])\n",
    "print(df_CNC_2018_1.columns, df_CNC_2018_1.shape[0])\n",
    "print(df_CNC_2023_1.columns, df_CNC_2023_1.shape[0])"
   ]
  },
  {
   "cell_type": "markdown",
   "id": "d7d79233-2c50-4c99-baca-af6c5a25ed6e",
   "metadata": {},
   "source": [
    "### Union todos los datasets"
   ]
  },
  {
   "cell_type": "code",
   "execution_count": null,
   "id": "e244a79b-34d1-4106-942b-07efb8e37c0b",
   "metadata": {},
   "outputs": [],
   "source": [
    "cnc_concat = pd.concat([df_CNC_2016_1, df_CNC_2018_1, df_CNC_2023_1], ignore_index=True)"
   ]
  },
  {
   "cell_type": "code",
   "execution_count": null,
   "id": "d551e416-3eb8-40ca-9cf7-740100be391c",
   "metadata": {},
   "outputs": [],
   "source": [
    "cnc_concat.shape[0]"
   ]
  },
  {
   "cell_type": "markdown",
   "id": "7f4d7b4b-1653-409d-96de-9eaa776a83a7",
   "metadata": {},
   "source": [
    "### Seleccion valor mas actualizado por municipio"
   ]
  },
  {
   "cell_type": "code",
   "execution_count": null,
   "id": "f3b8b5c4-8db6-4c0c-935f-4fcd88fe1c99",
   "metadata": {},
   "outputs": [],
   "source": [
    "# Ordena por cod_municipio y año (de más reciente a más antiguo)\n",
    "cnc_concat1 = cnc_concat.sort_values(by=['PB_DANE', 'Año_datos'], ascending=[True, False])\n",
    "\n",
    "# Elimina duplicados, conservando solo el más reciente por cod_municipio\n",
    "cnc_concat1 = cnc_concat1.drop_duplicates(subset='PB_DANE', keep='first')"
   ]
  },
  {
   "cell_type": "code",
   "execution_count": null,
   "id": "4644b1e5-aa9d-4a4e-99b1-3ef16393d5a4",
   "metadata": {},
   "outputs": [],
   "source": [
    "display(cnc_concat1.shape)\n",
    "cnc_concat1.head(3)"
   ]
  },
  {
   "cell_type": "code",
   "execution_count": null,
   "id": "e1d2549f-8452-4ed8-9c75-51abeadbbf0f",
   "metadata": {},
   "outputs": [],
   "source": [
    "cnc_concat_def = cnc_concat1[['PB_DANE', 'INDICADOR']]"
   ]
  },
  {
   "cell_type": "markdown",
   "id": "94803a7b",
   "metadata": {},
   "source": [
    "# Armado dataframe Final"
   ]
  },
  {
   "cell_type": "markdown",
   "id": "579f5ded-3508-4897-915a-6db1fc5674d8",
   "metadata": {},
   "source": [
    "## Agregar info depto"
   ]
  },
  {
   "cell_type": "code",
   "execution_count": null,
   "id": "36e5792f-59d8-4554-8f7b-1e10dcb13590",
   "metadata": {},
   "outputs": [],
   "source": [
    "df1 = pd.merge(cnc_concat_def, df_base[['CodigoD','CodigoM', 'Municipio']], left_on='PB_DANE', right_on='CodigoM', how='left')"
   ]
  },
  {
   "cell_type": "code",
   "execution_count": null,
   "id": "ca0c4235-d474-44ec-bb77-a7d715511a34",
   "metadata": {},
   "outputs": [],
   "source": [
    "df1 = df1.drop(['CodigoM'], axis=1)"
   ]
  },
  {
   "cell_type": "code",
   "execution_count": null,
   "id": "4fc87f38-1925-41d1-b4c6-b96b26467f38",
   "metadata": {},
   "outputs": [],
   "source": [
    "display(df1.shape)\n",
    "df1.head(3)"
   ]
  },
  {
   "cell_type": "markdown",
   "id": "43e54de3-1579-4575-b417-136503f1704b",
   "metadata": {},
   "source": [
    "## Info Finanzas"
   ]
  },
  {
   "cell_type": "code",
   "execution_count": null,
   "id": "c99ec248-5037-4e55-b97a-de8ee7737acc",
   "metadata": {},
   "outputs": [],
   "source": [
    "df2 = pd.merge(df1, df_finanzas_final[['Código Entidad','Porc_part_Educación','Porc_part_Propósito general']], left_on='PB_DANE', right_on='Código Entidad', how='left')"
   ]
  },
  {
   "cell_type": "code",
   "execution_count": null,
   "id": "7e5308e4-87ad-40f6-a5db-e639bc45ffef",
   "metadata": {},
   "outputs": [],
   "source": [
    "df2 = df2.drop(['Código Entidad'], axis=1)"
   ]
  },
  {
   "cell_type": "code",
   "execution_count": null,
   "id": "db9ebb9b-e1c0-487a-aabf-d18733715b4c",
   "metadata": {},
   "outputs": [],
   "source": [
    "display(df2.shape)\n",
    "df2.head(3)"
   ]
  },
  {
   "cell_type": "markdown",
   "id": "ff298260-a039-4f95-bfea-82dc8c0d5031",
   "metadata": {},
   "source": [
    "## Info economía"
   ]
  },
  {
   "cell_type": "code",
   "execution_count": null,
   "id": "bc194348-e18e-4dd5-a872-daec32a28a01",
   "metadata": {},
   "outputs": [],
   "source": [
    "df3 = pd.merge(df2, df_economia_final[['Código Departamento','PIB_per_capita','PIB_act_financieras','PIB_act_prof','PIB_info_comunicaciones']], left_on='CodigoD', right_on='Código Departamento', how='left')"
   ]
  },
  {
   "cell_type": "code",
   "execution_count": null,
   "id": "2cbbdd3c-51d4-4ba8-99dd-7804f8e98386",
   "metadata": {},
   "outputs": [],
   "source": [
    "df3 = df3.drop(['Código Departamento'], axis=1)\n",
    "df3 = df3.fillna(0)"
   ]
  },
  {
   "cell_type": "code",
   "execution_count": null,
   "id": "c4fa1303-8086-477d-b165-65406a3677bc",
   "metadata": {},
   "outputs": [],
   "source": [
    "display(df3.shape)\n",
    "df3.head(3)"
   ]
  },
  {
   "cell_type": "markdown",
   "id": "ad48952d-3bf8-41bf-963e-0d3cfa8ab3b5",
   "metadata": {},
   "source": [
    "## Info educación"
   ]
  },
  {
   "cell_type": "code",
   "execution_count": null,
   "id": "e0a0ce66-7c45-4d66-9cca-a85fff779130",
   "metadata": {},
   "outputs": [],
   "source": [
    "df4 = pd.merge(df3, df_educacion1[['Código Entidad','Cobertura_edu_total','Cobertura_edu_media','Tasa_repitencia']], left_on='PB_DANE', right_on='Código Entidad', how='left')"
   ]
  },
  {
   "cell_type": "code",
   "execution_count": null,
   "id": "f467ddc6-b156-43f5-8897-b811ede3d02f",
   "metadata": {},
   "outputs": [],
   "source": [
    "df4 = df4.drop(['Código Entidad'], axis=1)\n",
    "#df3 = df3.fillna(0)"
   ]
  },
  {
   "cell_type": "code",
   "execution_count": null,
   "id": "82ebe237-fcf9-440f-92c8-021ef332d5c5",
   "metadata": {},
   "outputs": [],
   "source": [
    "display(df4.shape)\n",
    "df4.head(3)"
   ]
  },
  {
   "cell_type": "markdown",
   "id": "c3c2ca72-f297-4c68-a2df-50e3208d9d1a",
   "metadata": {},
   "source": [
    "## Info Inv ciencia"
   ]
  },
  {
   "cell_type": "code",
   "execution_count": null,
   "id": "35f8f86f-37d1-43b8-97b1-9615965774df",
   "metadata": {},
   "outputs": [],
   "source": [
    "df5 = pd.merge(df4, df_InvCientifica1[['Código Departamento','Inv_Ciencia']], left_on='CodigoD', right_on='Código Departamento', how='left')"
   ]
  },
  {
   "cell_type": "code",
   "execution_count": null,
   "id": "835eadea-eeaf-45f7-b63d-c06087ebc2fa",
   "metadata": {},
   "outputs": [],
   "source": [
    "df5 = df5.drop(['Código Departamento'], axis=1)\n",
    "df5 = df5.fillna(0)"
   ]
  },
  {
   "cell_type": "code",
   "execution_count": null,
   "id": "340a5053-f84d-4054-acd0-aadaa2f39527",
   "metadata": {},
   "outputs": [],
   "source": [
    "display(df5.shape)\n",
    "df5.head(3)"
   ]
  },
  {
   "cell_type": "code",
   "execution_count": null,
   "id": "19205ff9-52e7-4961-8b5f-75ab26f226ed",
   "metadata": {},
   "outputs": [],
   "source": []
  },
  {
   "cell_type": "markdown",
   "id": "97eaedfa-f49f-470e-abf5-38571a5c8ec0",
   "metadata": {},
   "source": [
    "## Info Mercado Laboral"
   ]
  },
  {
   "cell_type": "code",
   "execution_count": null,
   "id": "fd6e3c52-8f91-47c3-b60d-0c9c92b115bd",
   "metadata": {},
   "outputs": [],
   "source": [
    "df6 = pd.merge(df5, df_mercadoLaboral1[['Código Entidad','Porc_trabajos_formales']], left_on='PB_DANE', right_on='Código Entidad', how='left')"
   ]
  },
  {
   "cell_type": "code",
   "execution_count": null,
   "id": "5dea24d6-3f7d-4ee7-8421-b0e5d00d476e",
   "metadata": {},
   "outputs": [],
   "source": [
    "df6 = df6.drop(['Código Entidad'], axis=1)\n",
    "#df6 = df6.fillna(0)"
   ]
  },
  {
   "cell_type": "code",
   "execution_count": null,
   "id": "9a13e01e-5346-4c02-91b1-a926309f4a3b",
   "metadata": {},
   "outputs": [],
   "source": [
    "display(df6.shape)\n",
    "df6.head(3)"
   ]
  },
  {
   "cell_type": "markdown",
   "id": "e00236ea-46fa-44ee-8c0c-ac33650391fb",
   "metadata": {},
   "source": [
    "## Info Transaccionalidad"
   ]
  },
  {
   "cell_type": "code",
   "execution_count": null,
   "id": "5586b2e3-225f-44dc-bd08-f05154343411",
   "metadata": {},
   "outputs": [],
   "source": [
    "df7 = pd.merge(df6, df_transacciones1, left_on='PB_DANE', right_on='CODIGO_MUNICIPIO', how='left')"
   ]
  },
  {
   "cell_type": "code",
   "execution_count": null,
   "id": "b5c58d21-e767-4b58-9a63-275b773ad988",
   "metadata": {},
   "outputs": [],
   "source": [
    "df7 = df7.drop(['CODIGO_MUNICIPIO'], axis=1)"
   ]
  },
  {
   "cell_type": "code",
   "execution_count": null,
   "id": "c77d424a-761c-4c31-b0e4-88c3c203dbe5",
   "metadata": {},
   "outputs": [],
   "source": [
    "display(df7.shape)\n",
    "df7.head(3)"
   ]
  },
  {
   "cell_type": "markdown",
   "id": "9eb6f0bb-fc8e-4478-af43-86d6b9cd885f",
   "metadata": {},
   "source": [
    "# Construccion Modelo No Supervisado"
   ]
  },
  {
   "cell_type": "markdown",
   "id": "6adbcbac-5909-4656-a418-55167e296a9a",
   "metadata": {},
   "source": [
    "## Escalado de los datos"
   ]
  },
  {
   "cell_type": "code",
   "execution_count": null,
   "id": "04b53999-1537-49b8-81c4-f20e95193dcd",
   "metadata": {},
   "outputs": [],
   "source": [
    "# Seleccion variables\n",
    "X = df7.drop(['PB_DANE', 'CodigoD', 'Municipio'], axis=1)\n",
    "y = df7['PB_DANE']"
   ]
  },
  {
   "cell_type": "code",
   "execution_count": null,
   "id": "7957ff9f-560c-4ab9-ade2-d0f56cbf4771",
   "metadata": {},
   "outputs": [],
   "source": [
    "scaler = StandardScaler()\n",
    "X_scaled = scaler.fit_transform(X)"
   ]
  },
  {
   "cell_type": "code",
   "execution_count": null,
   "id": "4fc4312c-510b-49d4-982c-b922737b478b",
   "metadata": {},
   "outputs": [],
   "source": [
    "df_X = pd.DataFrame(X_scaled, columns=X.columns)\n",
    "df_y = pd.DataFrame(y, columns=[\"PB_DANE\"])"
   ]
  },
  {
   "cell_type": "code",
   "execution_count": null,
   "id": "adcef7b0-b640-4ea7-b167-0a5849874d5a",
   "metadata": {},
   "outputs": [],
   "source": [
    "df = df_y.join(df_X)\n",
    "df.head()"
   ]
  },
  {
   "cell_type": "markdown",
   "id": "8d4163a1-548a-4789-ad44-b2c98c9c930b",
   "metadata": {},
   "source": [
    "## Desarrollo modelo"
   ]
  },
  {
   "cell_type": "markdown",
   "id": "a3c4f3e9-a9fd-4398-8e53-6ffdfe491392",
   "metadata": {},
   "source": [
    "### K-Means"
   ]
  },
  {
   "cell_type": "code",
   "execution_count": null,
   "id": "01ec55d9-dd22-4be0-9981-2c2de0647699",
   "metadata": {},
   "outputs": [],
   "source": [
    "kmeans_1 = KMeans(n_clusters = 5, random_state = 42, n_init=10).fit(df_X)"
   ]
  },
  {
   "cell_type": "code",
   "execution_count": null,
   "id": "d92e8d22-c5d8-470f-83c8-64a9fce01e77",
   "metadata": {},
   "outputs": [],
   "source": [
    "# Obtener las etiquetas de cluster generadas por KMeans\n",
    "cluster_labels_1= kmeans_1.labels_"
   ]
  },
  {
   "cell_type": "code",
   "execution_count": null,
   "id": "f04fb983-9105-4189-826b-1f5be9287fd9",
   "metadata": {},
   "outputs": [],
   "source": [
    "crear_grafico_dispersion(kmeans_1, df_X, df_y)"
   ]
  },
  {
   "cell_type": "code",
   "execution_count": null,
   "id": "c505d3c9-5747-4b25-b775-ec13ff46f8fe",
   "metadata": {},
   "outputs": [],
   "source": [
    "print(\"Metrica de silhouette_score: \",silhouette_score(df_X, kmeans_1.labels_))\n",
    "print(\"Metrica de Calinski-Harabasz Index: \", calinski_harabasz_score(df_X, kmeans_1.labels_))\n",
    "print(\"Metrica de Inercia de k-means: \",kmeans_1.inertia_)"
   ]
  },
  {
   "cell_type": "markdown",
   "id": "b039130e-d39f-49d4-9a1d-584705d5cc8d",
   "metadata": {},
   "source": [
    "### K-Medoides"
   ]
  },
  {
   "cell_type": "code",
   "execution_count": null,
   "id": "8e1e3e69-7c68-4ce6-8b61-282eb7965c8a",
   "metadata": {},
   "outputs": [],
   "source": [
    "Kmedoides_1 = KMedoids(n_clusters = 5, random_state = 42).fit(df_X)"
   ]
  },
  {
   "cell_type": "code",
   "execution_count": null,
   "id": "5a9a8e08-38fe-4cfa-9723-7fb3337c9597",
   "metadata": {},
   "outputs": [],
   "source": [
    "cluster_labels_2= Kmedoides_1.labels_"
   ]
  },
  {
   "cell_type": "code",
   "execution_count": null,
   "id": "dda41b28-cfa0-4102-a4c3-abda85f289de",
   "metadata": {},
   "outputs": [],
   "source": [
    "crear_grafico_dispersion(Kmedoides_1, df_X, df_y)"
   ]
  },
  {
   "cell_type": "code",
   "execution_count": null,
   "id": "9a4dec0c-5283-43ba-a8a7-47a744d8ae38",
   "metadata": {},
   "outputs": [],
   "source": [
    "print(\"Metrica de silhouette_score: \",silhouette_score(df_X, Kmedoides_1.labels_))\n",
    "print(\"Metrica de Calinski-Harabasz Index: \", calinski_harabasz_score(df_X, Kmedoides_1.labels_))\n",
    "print(\"Metrica de Inercia de k-means: \",Kmedoides_1.inertia_)"
   ]
  },
  {
   "cell_type": "markdown",
   "id": "ae53d074-bfc6-4c46-a4d9-0954e06b1058",
   "metadata": {},
   "source": [
    "## Calibracion parámetros"
   ]
  },
  {
   "cell_type": "markdown",
   "id": "659d52c0-3cbf-452d-93e6-b0c738014d38",
   "metadata": {},
   "source": [
    "### K-Means"
   ]
  },
  {
   "cell_type": "code",
   "execution_count": null,
   "id": "3551d420-4649-43ff-83d1-ea7d91182563",
   "metadata": {},
   "outputs": [],
   "source": [
    "# Numero de cluster a validar\n",
    "rg=50\n",
    "\n",
    "# Inicializar estructuras necesarias para la seleccion de cluster optimo\n",
    "varianza_intra_cluster = []\n",
    "silhouettes = []\n",
    "\n",
    "# iterar entre todos los posibles clusters seleccionados para encontrar el optimo\n",
    "for k in range (1, rg): # Evaluamos entre 1 a rg clusters posibles\n",
    "    kmeans = KMeans(n_clusters = k, random_state = 42, n_init=50).fit(df_X)\n",
    "    varianza_intra_cluster.append(kmeans.inertia_)\n",
    "    try:\n",
    "        silhouette = silhouette_score(df_X, kmeans.labels_)\n",
    "    except:\n",
    "        silhouette = 0 # El índice de Silhouette sólo se puede calcular cuando se tiene K>1\n",
    "    silhouettes.append(silhouette)"
   ]
  },
  {
   "cell_type": "code",
   "execution_count": null,
   "id": "7aa78d0c-0fb7-4bf4-87d8-19316353c7b7",
   "metadata": {},
   "outputs": [],
   "source": [
    "# Graficar la varianza intra cluster por cada uno de las posibles combinaciones de cluster a validar\n",
    "plt.plot(range(1, rg), varianza_intra_cluster, marker='o')\n",
    "plt.xlabel('Número de clústeres (K)')\n",
    "plt.ylabel('Varianza intra clúster')\n",
    "plt.show()"
   ]
  },
  {
   "cell_type": "code",
   "execution_count": null,
   "id": "01bced3b-e7a4-4999-97dd-10837472eddc",
   "metadata": {},
   "outputs": [],
   "source": [
    "# Graficar el indice de sihoutette por cada uno de las posibles combinaciones de cluster a validar\n",
    "plt.plot(range(1, rg), silhouettes, marker='o')\n",
    "plt.xlabel('Número de clústeres (K)')\n",
    "plt.ylabel('Índice de Silhouette')\n",
    "plt.grid()\n",
    "plt.show()"
   ]
  },
  {
   "cell_type": "markdown",
   "id": "30b36579-3358-4859-a58c-1e78c2868ceb",
   "metadata": {},
   "source": [
    "### K-Medoides"
   ]
  },
  {
   "cell_type": "code",
   "execution_count": null,
   "id": "3dc52984-24c0-4352-ab1a-8f88c6db5bb7",
   "metadata": {},
   "outputs": [],
   "source": [
    "# Numero de cluster a validar\n",
    "rg=50\n",
    "\n",
    "# Inicializar estructuras necesarias para la seleccion de cluster optimo\n",
    "varianza_intra_cluster = []\n",
    "silhouettes = []\n",
    "\n",
    "# iterar entre todos los posibles clusters seleccionados para encontrar el optimo\n",
    "for k in range (1, rg): # Evaluamos entre 1 a rg clusters posibles\n",
    "    kmedoids = KMedoids(n_clusters = k, random_state = 42).fit(df_X)\n",
    "    varianza_intra_cluster.append(kmedoids.inertia_)\n",
    "    try:\n",
    "        silhouette = silhouette_score(df_X, kmedoids.labels_)\n",
    "    except:\n",
    "        silhouette = 0 # El índice de Silhouette sólo se puede calcular cuando se tiene K>1\n",
    "    silhouettes.append(silhouette)"
   ]
  },
  {
   "cell_type": "code",
   "execution_count": null,
   "id": "661a0cac-d07d-434a-9dbc-b5c7dea5c8f9",
   "metadata": {},
   "outputs": [],
   "source": [
    "# Graficar la varianza intra cluster por cada uno de las posibles combinaciones de cluster a validar\n",
    "plt.plot(range(1, rg), varianza_intra_cluster, marker='o')\n",
    "plt.xlabel('Número de clústeres (K)')\n",
    "plt.ylabel('Varianza intra clúster')\n",
    "plt.show()"
   ]
  },
  {
   "cell_type": "code",
   "execution_count": null,
   "id": "0cdde242-108c-435e-a9e0-8f5e0fbfc586",
   "metadata": {},
   "outputs": [],
   "source": [
    "# Graficar el indice de sihoutette por cada uno de las posibles combinaciones de cluster a validar\n",
    "plt.plot(range(1, rg), silhouettes, marker='o')\n",
    "plt.xlabel('Número de clústeres (K)')\n",
    "plt.ylabel('Índice de Silhouette')\n",
    "plt.grid()\n",
    "plt.show()"
   ]
  },
  {
   "cell_type": "markdown",
   "id": "5811aa4b-3fd5-494f-869e-e9e1ea3ffa00",
   "metadata": {},
   "source": [
    "## Mejor modelo"
   ]
  },
  {
   "cell_type": "code",
   "execution_count": null,
   "id": "1ae90efd-7311-4eca-abf8-46199db2bc35",
   "metadata": {},
   "outputs": [],
   "source": [
    "kmeans_2 = KMeans(n_clusters = 6, random_state = 42, n_init=50).fit(df_X)"
   ]
  },
  {
   "cell_type": "code",
   "execution_count": null,
   "id": "60b080b2-d832-48ce-ae6f-7e2293afded9",
   "metadata": {},
   "outputs": [],
   "source": [
    "crear_grafico_dispersion(kmeans_2, df_X, df_y)"
   ]
  },
  {
   "cell_type": "code",
   "execution_count": null,
   "id": "b5145a5c-33ea-45da-8027-8faecaa22bf0",
   "metadata": {},
   "outputs": [],
   "source": [
    "print(\"Metrica de silhouette_score: \",silhouette_score(df_X, kmeans_2.labels_))\n",
    "print(\"Metrica de Calinski-Harabasz Index: \", calinski_harabasz_score(df_X, kmeans_2.labels_))\n",
    "print(\"Metrica de Inercia de k-means: \",kmeans_2.inertia_)"
   ]
  },
  {
   "cell_type": "markdown",
   "id": "5d2c046a",
   "metadata": {},
   "source": [
    "# Analisis Clusters - Mejor Modelo"
   ]
  },
  {
   "cell_type": "markdown",
   "id": "c3ce48ba",
   "metadata": {},
   "source": [
    "## Analisis - clusters a data set original"
   ]
  },
  {
   "cell_type": "code",
   "execution_count": null,
   "id": "1fd06b36",
   "metadata": {},
   "outputs": [],
   "source": [
    "# Obtener las etiquetas de cluster generadas por KMeans\n",
    "X_clusters = df7\n",
    "X_clusters.drop(columns=['PB_DANE', 'CodigoD'], inplace=True)\n",
    "X_clusters.insert(0, 'clusters', kmeans_2.labels_)\n",
    "\n",
    "# ver df con labels de clusters\n",
    "X_clusters.head()"
   ]
  },
  {
   "cell_type": "code",
   "execution_count": null,
   "id": "ead29563",
   "metadata": {},
   "outputs": [],
   "source": [
    "# Revisar los municipios con mayor indice en que grupo quedaron\n",
    "X_clusters.sort_values(by='INDICADOR', ascending=False).head(20)"
   ]
  },
  {
   "cell_type": "code",
   "execution_count": null,
   "id": "c72e1e1e",
   "metadata": {},
   "outputs": [],
   "source": [
    "# describe de los grupos\n",
    "X_clusters.groupby('clusters').describe()"
   ]
  },
  {
   "cell_type": "markdown",
   "id": "031d85f4",
   "metadata": {},
   "source": [
    "## Conclusion - Clusters"
   ]
  },
  {
   "cell_type": "markdown",
   "id": "14e0b22a",
   "metadata": {},
   "source": [
    "Se identifican 6 clusters de los cuales se resaltan el cluster 3 con un solo municipio el cual es el distrito capital Bogota el cual no sera tomando en cuenta ya que su desarrollo y la inclusion digital que este presenta tiene varios factores especiales con respecto a los demas.\n",
    "\n",
    "El cluster 5 conformado por 10 municipios los cuales presentan un indicador promedio de 0.33 y un particular porcentaje de participacion en educacion muy bajo siendo de 0.04 en promedio.\n",
    "\n",
    "y por ultimo el cluster 1 con 22 municipios el cual presenta un indicador promedio de 0.28 y un porcentaje de participacion de educacion mucho mejor el cual es de 0.59 en promedio.\n",
    "\n",
    "con estos dos clusters podemos evidenciar las 2 situaciones contrarias en el pais donde el indicador ya se encuentra posicionado y con los correctos planes o iniciativas en cada uno podemos mejorar la integracion con las comunidades teniendo en cuenta las necesidades y el contexto donde se encuentran los 2 clusters."
   ]
  },
  {
   "cell_type": "markdown",
   "id": "8071ca38",
   "metadata": {},
   "source": [
    "## Exportar DataSet Final"
   ]
  },
  {
   "cell_type": "code",
   "execution_count": null,
   "id": "a05db114",
   "metadata": {},
   "outputs": [],
   "source": [
    "X_clusters.to_csv('DataSetFinalProyectoGradoMIAD.csv', index=False)"
   ]
  }
 ],
 "metadata": {
  "kernelspec": {
   "display_name": "vGPA",
   "language": "python",
   "name": "python3"
  },
  "language_info": {
   "codemirror_mode": {
    "name": "ipython",
    "version": 3
   },
   "file_extension": ".py",
   "mimetype": "text/x-python",
   "name": "python",
   "nbconvert_exporter": "python",
   "pygments_lexer": "ipython3",
   "version": "3.12.3"
  }
 },
 "nbformat": 4,
 "nbformat_minor": 5
}
